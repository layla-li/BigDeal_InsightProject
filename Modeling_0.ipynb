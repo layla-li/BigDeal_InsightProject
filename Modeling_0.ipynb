{
 "cells": [
  {
   "cell_type": "code",
   "execution_count": 23,
   "metadata": {},
   "outputs": [],
   "source": [
    "import os\n",
    "import re\n",
    "import numpy as np\n",
    "import pandas as pd\n",
    "import seaborn as sns\n",
    "import pickle\n",
    "from datetime import datetime, timedelta\n",
    "import matplotlib.pyplot as plt\n",
    "from collections import Counter\n",
    "\n",
    "from sklearn.model_selection import train_test_split\n",
    "from sklearn.linear_model import LogisticRegression\n",
    "from sklearn.ensemble import RandomForestClassifier\n",
    "import xgboost \n",
    "from xgboost import XGBClassifier\n",
    "from xgboost import plot_importance\n",
    "from sklearn import metrics\n",
    "from sklearn.metrics import confusion_matrix\n",
    "from sklearn.metrics import classification_report\n",
    "from sklearn.metrics import roc_curve\n",
    "from sklearn.metrics import auc\n",
    "from sklearn.model_selection import GridSearchCV\n",
    "#from imblearn.over_sampling import SMOTE\n",
    "\n",
    "%matplotlib inline"
   ]
  },
  {
   "cell_type": "code",
   "execution_count": 2,
   "metadata": {},
   "outputs": [],
   "source": [
    "import glob\n",
    "brand_dict = dict()\n",
    "path = \"Datasets/*_features.csv\"\n",
    "for fname in glob.glob(path):\n",
    "    brand = fname.split('/')[1].split('_')[0]\n",
    "    brand_dict[brand] = pd.read_csv(fname)\n",
    "    brand_dict[brand].dropna(inplace=True)"
   ]
  },
  {
   "cell_type": "code",
   "execution_count": 3,
   "metadata": {},
   "outputs": [
    {
     "name": "stdout",
     "output_type": "stream",
     "text": [
      "43 Index(['Unnamed: 0', 'Date', 'avg_comments', 'avg_bookmarks', 'avg_shares',\n",
      "       'year', 'month', 'day', 'weekday', 'discount_today', 'avg_discount',\n",
      "       'Y_discount_1d', 'Y_avg_discount_1d', 'Y_discount_3d',\n",
      "       'Y_avg_discount_3d', 'Y_discount_7d', 'Y_avg_discount_7d',\n",
      "       'Y_discount_14d', 'Y_avg_discount_14d', 'discount_past1day',\n",
      "       'discount_past2day', 'discount_past3day', 'discount_past4day',\n",
      "       'discount_past5day', 'discount_past6day', 'discount_past7day',\n",
      "       'discount_min_past15day', 'discount_min_past30day',\n",
      "       'discount_max_past15day', 'discount_max_past30day',\n",
      "       'discount_mean_past15day', 'discount_mean_past30day',\n",
      "       'nday_away_Washingtons_Birthday', 'nday_away_Veterans_Day',\n",
      "       'nday_away_Memorial_Day', 'nday_away_Labor_Day',\n",
      "       'nday_away_Martin_Luther_King_Jr_Day', 'nday_away_Thanksgiving',\n",
      "       'nday_away_Independence_Day', 'nday_away_Christmas_Day',\n",
      "       'nday_away_New_Years_Day', 'nday_away_Columbus_Day',\n",
      "       'nday_away_anyholiday'],\n",
      "      dtype='object')\n"
     ]
    }
   ],
   "source": [
    "print(len(brand_dict[\"Carters\"].columns), brand_dict[\"Carters\"].columns)"
   ]
  },
  {
   "cell_type": "code",
   "execution_count": 21,
   "metadata": {},
   "outputs": [
    {
     "data": {
      "text/plain": [
       "array([50,  0, 30, 60, 20, 40, 70, 80])"
      ]
     },
     "execution_count": 21,
     "metadata": {},
     "output_type": "execute_result"
    }
   ],
   "source": [
    "brand_dict[\"Carters\"]['Y_avg_discount_3d'].unique()"
   ]
  },
  {
   "cell_type": "code",
   "execution_count": 4,
   "metadata": {},
   "outputs": [
    {
     "data": {
      "text/plain": [
       "1    0.6808\n",
       "0    0.3192\n",
       "Name: Y_discount_3d, dtype: float64"
      ]
     },
     "execution_count": 4,
     "metadata": {},
     "output_type": "execute_result"
    }
   ],
   "source": [
    "y = brand_dict[\"Carters\"][\"Y_discount_3d\"]\n",
    "y.value_counts()/y.count()"
   ]
  },
  {
   "cell_type": "markdown",
   "metadata": {},
   "source": [
    "Next we split the whole dataset into training dataset and test dataset."
   ]
  },
  {
   "cell_type": "code",
   "execution_count": 5,
   "metadata": {},
   "outputs": [
    {
     "name": "stdout",
     "output_type": "stream",
     "text": [
      "32 features in total\n"
     ]
    }
   ],
   "source": [
    "X = brand_dict[\"Carters\"][['avg_comments', 'avg_bookmarks', 'avg_shares',\n",
    "       'year', 'month', 'day', 'weekday', 'avg_discount', \n",
    "        'discount_past1day', 'discount_past2day',\n",
    "       'discount_past3day', 'discount_past4day', 'discount_past5day',\n",
    "       'discount_past6day', 'discount_past7day', 'discount_min_past15day',\n",
    "       'discount_min_past30day', 'discount_max_past15day',\n",
    "       'discount_max_past30day', 'discount_mean_past15day',\n",
    "       'discount_mean_past30day', 'nday_away_Martin_Luther_King_Jr_Day',\n",
    "       'nday_away_New_Years_Day', 'nday_away_Memorial_Day',\n",
    "       'nday_away_Columbus_Day', 'nday_away_Veterans_Day',\n",
    "       'nday_away_Independence_Day', 'nday_away_Labor_Day',\n",
    "       'nday_away_Washingtons_Birthday', 'nday_away_Thanksgiving',\n",
    "       'nday_away_Christmas_Day', 'nday_away_anyholiday']]\n",
    "X_train, X_test, y_train, y_test = train_test_split(X, y, test_size=0.33, random_state=42)\n",
    "print(len(X.columns),\"features in total\")"
   ]
  },
  {
   "cell_type": "markdown",
   "metadata": {},
   "source": [
    "## Model Building\n",
    "### Start simple: Binary classification--Are there deals within 3 days or not?\n",
    "### Try Logistic Recression as Baseline Model"
   ]
  },
  {
   "cell_type": "code",
   "execution_count": 30,
   "metadata": {},
   "outputs": [
    {
     "name": "stdout",
     "output_type": "stream",
     "text": [
      "0.68\n"
     ]
    },
    {
     "name": "stderr",
     "output_type": "stream",
     "text": [
      "/Users/universebright/anaconda3/lib/python3.7/site-packages/sklearn/linear_model/_logistic.py:940: ConvergenceWarning: lbfgs failed to converge (status=1):\n",
      "STOP: TOTAL NO. of ITERATIONS REACHED LIMIT.\n",
      "\n",
      "Increase the number of iterations (max_iter) or scale the data as shown in:\n",
      "    https://scikit-learn.org/stable/modules/preprocessing.html\n",
      "Please also refer to the documentation for alternative solver options:\n",
      "    https://scikit-learn.org/stable/modules/linear_model.html#logistic-regression\n",
      "  extra_warning_msg=_LOGISTIC_SOLVER_CONVERGENCE_MSG)\n"
     ]
    }
   ],
   "source": [
    "logisticRegr = LogisticRegression()\n",
    "logisticRegr.fit(X_train, y_train)\n",
    "predictions = logisticRegr.predict(X_test)\n",
    "score = logisticRegr.score(X_test, y_test)\n",
    "print(score)"
   ]
  },
  {
   "cell_type": "code",
   "execution_count": 31,
   "metadata": {},
   "outputs": [
    {
     "name": "stdout",
     "output_type": "stream",
     "text": [
      "              precision    recall  f1-score   support\n",
      "\n",
      "           0       0.57      0.24      0.33       539\n",
      "           1       0.72      0.92      0.80      1136\n",
      "\n",
      "    accuracy                           0.70      1675\n",
      "   macro avg       0.64      0.58      0.57      1675\n",
      "weighted avg       0.67      0.70      0.65      1675\n",
      "\n",
      "              precision    recall  f1-score   support\n",
      "\n",
      "           0       0.48      0.24      0.32       259\n",
      "           1       0.72      0.88      0.79       566\n",
      "\n",
      "    accuracy                           0.68       825\n",
      "   macro avg       0.60      0.56      0.56       825\n",
      "weighted avg       0.64      0.68      0.64       825\n",
      "\n",
      "Confusion Matrix:\n",
      "[[ 127  412]\n",
      " [  96 1040]]\n",
      "[[ 63 196]\n",
      " [ 68 498]]\n"
     ]
    },
    {
     "data": {
      "text/plain": [
       "0.6715486309125885"
      ]
     },
     "execution_count": 31,
     "metadata": {},
     "output_type": "execute_result"
    },
    {
     "data": {
      "image/png": "[encoded data removed]",
      "text/plain": [
       "<Figure size 432x288 with 1 Axes>"
      ]
     },
     "metadata": {
      "needs_background": "light"
     },
     "output_type": "display_data"
    }
   ],
   "source": [
    "y_hat_train = logisticRegr.predict(X_train)\n",
    "y_hat_test = logisticRegr.predict(X_test)\n",
    "cm_train = confusion_matrix(y_train, y_hat_train)\n",
    "cm_test = confusion_matrix(y_test, y_hat_test)\n",
    "\n",
    "print(classification_report(y_train, y_hat_train))\n",
    "print(classification_report(y_test, y_hat_test))\n",
    "print(\"Confusion Matrix:\")\n",
    "print(cm_train)\n",
    "print(cm_test)\n",
    "plt.figure(1)\n",
    "y_pred_prob = logisticRegr.predict_proba(X_test)[:, 1]\n",
    "fpr_grd, tpr_grd, _ = roc_curve(y_test, y_pred_prob)\n",
    "plt.plot(fpr_grd,tpr_grd)\n",
    "auc(fpr_grd,tpr_grd)"
   ]
  },
  {
   "cell_type": "markdown",
   "metadata": {},
   "source": [
    "### Next try Random Forest \n",
    "since it is efficient, not too sensitive to imbalanced data, and gives good insight about the feature importance."
   ]
  },
  {
   "cell_type": "code",
   "execution_count": 32,
   "metadata": {},
   "outputs": [
    {
     "data": {
      "text/plain": [
       "0.7745454545454545"
      ]
     },
     "execution_count": 32,
     "metadata": {},
     "output_type": "execute_result"
    }
   ],
   "source": [
    "rf = RandomForestClassifier(random_state=2)\n",
    "rf.fit(X_train, np.array(y_train))\n",
    "rf.score(X_test,y_test)"
   ]
  },
  {
   "cell_type": "code",
   "execution_count": 33,
   "metadata": {},
   "outputs": [
    {
     "name": "stdout",
     "output_type": "stream",
     "text": [
      "              precision    recall  f1-score   support\n",
      "\n",
      "           0       0.70      0.49      0.58       259\n",
      "           1       0.79      0.91      0.85       566\n",
      "\n",
      "    accuracy                           0.77       825\n",
      "   macro avg       0.75      0.70      0.71       825\n",
      "weighted avg       0.77      0.77      0.76       825\n",
      "\n",
      "Confusion Matrix:\n",
      "[[ 539    0]\n",
      " [   0 1136]]\n",
      "[[126 133]\n",
      " [ 53 513]]\n"
     ]
    },
    {
     "data": {
      "text/plain": [
       "0.7963388678936382"
      ]
     },
     "execution_count": 33,
     "metadata": {},
     "output_type": "execute_result"
    },
    {
     "data": {
      "image/png": "[encoded data removed]",
      "text/plain": [
       "<Figure size 432x288 with 1 Axes>"
      ]
     },
     "metadata": {
      "needs_background": "light"
     },
     "output_type": "display_data"
    }
   ],
   "source": [
    "y_hat_train = rf.predict(X_train)\n",
    "y_hat_test = rf.predict(X_test)\n",
    "cm_train = confusion_matrix(y_train, y_hat_train)\n",
    "cm_test = confusion_matrix(y_test, y_hat_test)\n",
    "\n",
    "print(classification_report(y_test, y_hat_test))\n",
    "print(\"Confusion Matrix:\")\n",
    "print(cm_train)\n",
    "print(cm_test)\n",
    "\n",
    "plt.figure(1)\n",
    "y_pred_prob = rf.predict_proba(X_test)[:, 1]\n",
    "fpr_grd, tpr_grd, _ = roc_curve(y_test, y_pred_prob)\n",
    "plt.plot(fpr_grd,tpr_grd)\n",
    "auc(fpr_grd,tpr_grd)"
   ]
  },
  {
   "cell_type": "code",
   "execution_count": 10,
   "metadata": {},
   "outputs": [
    {
     "name": "stdout",
     "output_type": "stream",
     "text": [
      "Feature ranking:\n",
      "1. feature 19 (0.092262)\n",
      "2. feature 3 (0.078531)\n",
      "3. feature 20 (0.078199)\n",
      "4. feature 5 (0.064780)\n",
      "5. feature 31 (0.058572)\n",
      "6. feature 6 (0.051489)\n",
      "7. feature 23 (0.045891)\n",
      "8. feature 22 (0.038476)\n",
      "9. feature 28 (0.038153)\n",
      "10. feature 26 (0.037604)\n",
      "11. feature 30 (0.033648)\n",
      "12. feature 24 (0.032618)\n",
      "13. feature 21 (0.031907)\n",
      "14. feature 17 (0.029350)\n",
      "15. feature 27 (0.028584)\n",
      "16. feature 25 (0.027869)\n",
      "17. feature 1 (0.025657)\n",
      "18. feature 29 (0.025030)\n",
      "19. feature 18 (0.021784)\n",
      "20. feature 7 (0.021312)\n",
      "21. feature 4 (0.021123)\n",
      "22. feature 2 (0.019721)\n",
      "23. feature 11 (0.019309)\n",
      "24. feature 0 (0.013578)\n",
      "25. feature 8 (0.011597)\n",
      "26. feature 12 (0.011007)\n",
      "27. feature 9 (0.010649)\n",
      "28. feature 10 (0.010529)\n",
      "29. feature 14 (0.010402)\n",
      "30. feature 13 (0.010371)\n",
      "31. feature 16 (0.000000)\n",
      "32. feature 15 (0.000000)\n"
     ]
    },
    {
     "data": {
      "image/png": "[encoded data removed]",
      "text/plain": [
       "<Figure size 432x288 with 1 Axes>"
      ]
     },
     "metadata": {
      "needs_background": "light"
     },
     "output_type": "display_data"
    }
   ],
   "source": [
    "importances = rf.feature_importances_\n",
    "std = np.std([tree.feature_importances_ for tree in rf.estimators_],axis=0)\n",
    "indices = np.argsort(importances)[::-1]\n",
    "print(\"Feature ranking:\")\n",
    "for f in range(X_train.shape[1]):\n",
    "    print(\"%d. feature %d (%f)\" % (f + 1, indices[f], importances[indices[f]]))\n",
    "plt.figure()\n",
    "plt.title(\"Feature importances\")\n",
    "plt.bar(range(X_train.shape[1]), importances[indices], yerr=std[indices])\n",
    "plt.show()"
   ]
  },
  {
   "cell_type": "code",
   "execution_count": 34,
   "metadata": {},
   "outputs": [
    {
     "data": {
      "text/plain": [
       "0.7284848484848485"
      ]
     },
     "execution_count": 34,
     "metadata": {},
     "output_type": "execute_result"
    }
   ],
   "source": [
    "xgb = XGBClassifier(random_state=2)\n",
    "xgb.fit(X_train, np.array(y_train))\n",
    "xgb.score(X_test,y_test)"
   ]
  },
  {
   "cell_type": "code",
   "execution_count": 35,
   "metadata": {},
   "outputs": [
    {
     "name": "stdout",
     "output_type": "stream",
     "text": [
      "              precision    recall  f1-score   support\n",
      "\n",
      "           0       0.59      0.42      0.50       259\n",
      "           1       0.77      0.87      0.81       566\n",
      "\n",
      "    accuracy                           0.73       825\n",
      "   macro avg       0.68      0.65      0.65       825\n",
      "weighted avg       0.71      0.73      0.71       825\n",
      "\n",
      "Confusion Matrix:\n",
      "[[ 331  208]\n",
      " [  63 1073]]\n",
      "[[110 149]\n",
      " [ 75 491]]\n"
     ]
    },
    {
     "data": {
      "text/plain": [
       "0.7540281321200049"
      ]
     },
     "execution_count": 35,
     "metadata": {},
     "output_type": "execute_result"
    },
    {
     "data": {
      "image/png": "[encoded data removed]",
      "text/plain": [
       "<Figure size 432x288 with 1 Axes>"
      ]
     },
     "metadata": {
      "needs_background": "light"
     },
     "output_type": "display_data"
    }
   ],
   "source": [
    "y_hat_train = xgb.predict(X_train)\n",
    "y_hat_test = xgb.predict(X_test)\n",
    "cm_train = confusion_matrix(y_train, y_hat_train)\n",
    "cm_test = confusion_matrix(y_test, y_hat_test)\n",
    "\n",
    "print(classification_report(y_test, y_hat_test))\n",
    "print(\"Confusion Matrix:\")\n",
    "print(cm_train)\n",
    "print(cm_test)\n",
    "\n",
    "plt.figure(1)\n",
    "y_pred_prob = xgb.predict_proba(X_test)[:, 1]\n",
    "fpr_grd, tpr_grd, _ = roc_curve(y_test, y_pred_prob)\n",
    "plt.plot(fpr_grd,tpr_grd)\n",
    "auc(fpr_grd,tpr_grd)"
   ]
  },
  {
   "cell_type": "markdown",
   "metadata": {},
   "source": [
    "Hyper parameter tuning using grid search cv"
   ]
  },
  {
   "cell_type": "code",
   "execution_count": 14,
   "metadata": {},
   "outputs": [],
   "source": [
    "estimator = XGBClassifier(\n",
    "    objective= 'binary:logistic',\n",
    "    nthread=4,\n",
    "    seed=42\n",
    ")"
   ]
  },
  {
   "cell_type": "code",
   "execution_count": 15,
   "metadata": {},
   "outputs": [],
   "source": [
    " parameters = {\n",
    "    'max_depth': range (2, 10, 1),\n",
    "    'n_estimators': range(60, 220, 40),\n",
    "    'learning_rate': [0.1, 0.01, 0.05]\n",
    "}\n",
    "grid_search = GridSearchCV(\n",
    "    estimator=estimator,\n",
    "    param_grid=parameters,\n",
    "    scoring = 'roc_auc',\n",
    "    n_jobs = 10,\n",
    "    cv = 10,\n",
    "    verbose=True\n",
    ")\n",
    "grid_search.fit(X_train, y_train)"
   ]
  },
  {
   "cell_type": "code",
   "execution_count": 16,
   "metadata": {},
   "outputs": [],
   "source": [
    "grid_search.best_estimator_"
   ]
  },
  {
   "cell_type": "code",
   "execution_count": 17,
   "metadata": {},
   "outputs": [
    {
     "data": {
      "text/plain": [
       "0.7806060606060606"
      ]
     },
     "execution_count": 17,
     "metadata": {},
     "output_type": "execute_result"
    }
   ],
   "source": [
    "xgb = XGBClassifier(base_score=0.5, booster='gbtree', colsample_bylevel=1,\n",
    "              colsample_bynode=1, colsample_bytree=1, gamma=0,\n",
    "              learning_rate=0.1, max_delta_step=0, max_depth=9,\n",
    "              min_child_weight=1, missing=None, n_estimators=180, n_jobs=1,\n",
    "              nthread=4, objective='binary:logistic', random_state=0,\n",
    "              reg_alpha=0, reg_lambda=1, scale_pos_weight=1, seed=42,\n",
    "              silent=None, subsample=1, verbosity=1)\n",
    "xgb.fit(X_train, np.array(y_train))\n",
    "xgb.score(X_test,y_test)"
   ]
  },
  {
   "cell_type": "code",
   "execution_count": 28,
   "metadata": {},
   "outputs": [
    {
     "name": "stdout",
     "output_type": "stream",
     "text": [
      "              precision    recall  f1-score   support\n",
      "\n",
      "           0       0.67      0.58      0.63       259\n",
      "           1       0.82      0.87      0.84       566\n",
      "\n",
      "    accuracy                           0.78       825\n",
      "   macro avg       0.75      0.73      0.74       825\n",
      "weighted avg       0.77      0.78      0.78       825\n",
      "\n",
      "Confusion Matrix:\n",
      "[[ 539    0]\n",
      " [   0 1136]]\n",
      "[[151 108]\n",
      " [ 73 493]]\n"
     ]
    },
    {
     "data": {
      "text/plain": [
       "0.8190649003369852"
      ]
     },
     "execution_count": 28,
     "metadata": {},
     "output_type": "execute_result"
    },
    {
     "data": {
      "image/png": "[encoded data removed]",
      "text/plain": [
       "<Figure size 432x288 with 1 Axes>"
      ]
     },
     "metadata": {
      "needs_background": "light"
     },
     "output_type": "display_data"
    }
   ],
   "source": [
    "y_hat_train = xgb.predict(X_train)\n",
    "y_hat_test = xgb.predict(X_test)\n",
    "cm_train = confusion_matrix(y_train, y_hat_train)\n",
    "cm_test = confusion_matrix(y_test, y_hat_test)\n",
    "\n",
    "print(classification_report(y_test, y_hat_test))\n",
    "print(\"Confusion Matrix:\")\n",
    "print(cm_train)\n",
    "print(cm_test)\n",
    "\n",
    "plt.figure(1)\n",
    "y_pred_prob = xgb.predict_proba(X_test)[:, 1]\n",
    "fpr_grd, tpr_grd, _ = roc_curve(y_test, y_pred_prob)\n",
    "plt.plot(fpr_grd,tpr_grd)\n",
    "auc(fpr_grd,tpr_grd)"
   ]
  },
  {
   "cell_type": "code",
   "execution_count": 25,
   "metadata": {},
   "outputs": [],
   "source": [
    "# Save model to pickle file\n",
    "pkl_filename = \"Carters.pkl\"\n",
    "with open(pkl_filename, 'wb') as file:\n",
    "    pickle.dump(xgb, file)"
   ]
  }
 ],
 "metadata": {
  "kernelspec": {
   "display_name": "Python 3",
   "language": "python",
   "name": "python3"
  },
  "language_info": {
   "codemirror_mode": {
    "name": "ipython",
    "version": 3
   },
   "file_extension": ".py",
   "mimetype": "text/x-python",
   "name": "python",
   "nbconvert_exporter": "python",
   "pygments_lexer": "ipython3",
   "version": "3.7.3"
  }
 },
 "nbformat": 4,
 "nbformat_minor": 2
}
